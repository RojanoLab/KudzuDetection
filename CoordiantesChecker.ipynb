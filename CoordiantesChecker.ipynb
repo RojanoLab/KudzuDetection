{
 "cells": [
  {
   "cell_type": "markdown",
   "id": "8c73cffc-3627-4ae7-b94d-b1add6932e86",
   "metadata": {},
   "source": [
    "# Coordinates Checker\n",
    "In this notebook, we will try to solve any issue we could have encountered with the process of downloading GSV images, specially the issue of missing coordinates during the process. "
   ]
  },
  {
   "cell_type": "markdown",
   "id": "2079becc-28a8-4f6c-8ae6-8983b4694a4f",
   "metadata": {},
   "source": [
    "## Load Checkpoint file"
   ]
  },
  {
   "cell_type": "code",
   "execution_count": null,
   "id": "6d8bd1f3-75ea-4da3-a001-00a34d109858",
   "metadata": {},
   "outputs": [],
   "source": [
    "import pandas as pd\n",
    "\n",
    "# Load the CSV file\n",
    "file_path = 'image_status_checkpoint.csv' \n",
    "df = pd.read_csv(file_path)\n",
    "\n",
    "# Drop duplicates based on 'X' and 'Y' columns\n",
    "df1 = df.drop_duplicates(subset=['X', 'Y'])"
   ]
  },
  {
   "cell_type": "code",
   "execution_count": null,
   "id": "f3b5c5dd-6d51-49f2-becb-871dab5290e7",
   "metadata": {},
   "outputs": [],
   "source": [
    "df1"
   ]
  },
  {
   "cell_type": "markdown",
   "id": "236d5716-e254-40e7-9ed6-1a5e75c2ac83",
   "metadata": {},
   "source": [
    "## Load Original Coordinates File"
   ]
  },
  {
   "cell_type": "code",
   "execution_count": null,
   "id": "f9b68fb7-213d-45af-8e1d-513d7decacf5",
   "metadata": {},
   "outputs": [],
   "source": [
    "file_name = 'data/inhabit.xlsx'\n",
    "df  = pd.read_excel(file_name, sheet_name='all_data') \n",
    "df2 = df.drop_duplicates(subset=['X', 'Y'])"
   ]
  },
  {
   "cell_type": "code",
   "execution_count": null,
   "id": "c8fcbce5-ac6a-4f9a-a8ed-84fedca38561",
   "metadata": {},
   "outputs": [],
   "source": [
    "df2"
   ]
  },
  {
   "cell_type": "markdown",
   "id": "cdf6d4b8-f58e-4458-b6e8-f10472348594",
   "metadata": {},
   "source": [
    "## Find Coordinates in Original File but Missing in Checkpoint"
   ]
  },
  {
   "cell_type": "code",
   "execution_count": null,
   "id": "fc41121d-4c9e-4649-b3b0-9b0f7ee7d534",
   "metadata": {},
   "outputs": [],
   "source": [
    "# Merge with an indicator to find rows in df2 not in df1\n",
    "merged_df = df2.merge(df1[['X', 'Y']], on=['X', 'Y'], how='left', indicator=True)\n",
    "\n",
    "# Filter rows that are only in df2\n",
    "df_not_in_both = merged_df[merged_df['_merge'] == 'left_only'].drop(columns=['_merge'])\n",
    "\n",
    "# Save or display the resulting DataFrame\n",
    "df_not_in_both.to_csv('unique_to_df2.csv', index=False)  # Optional: save the results to a file"
   ]
  },
  {
   "cell_type": "code",
   "execution_count": null,
   "id": "1b349831-08d5-462e-930b-c13c07fa41cf",
   "metadata": {},
   "outputs": [],
   "source": [
    "df_not_in_both"
   ]
  },
  {
   "cell_type": "markdown",
   "id": "d074709e-2b0b-4b85-aa35-ac8dbe4b1269",
   "metadata": {},
   "source": [
    "## Find Coordinates in Checkpoint but Not in Original File"
   ]
  },
  {
   "cell_type": "code",
   "execution_count": null,
   "id": "92094d15-81fe-4149-bbb0-410140573d64",
   "metadata": {},
   "outputs": [],
   "source": [
    "import pandas as pd\n",
    "\n",
    "# Merge with an indicator to find rows in df2 not in df1\n",
    "merged_df = df2.merge(df1[['X', 'Y']], on=['X', 'Y'], how='right', indicator=True)\n",
    "\n",
    "# Filter rows that are only in df2\n",
    "df_not_in_both = merged_df[merged_df['_merge'] == 'right_only'].drop(columns=['_merge'])\n",
    "\n",
    "# Save or display the resulting DataFrame\n",
    "df_not_in_both.to_csv('unique_to_df1.csv', index=False)  # Optional: save the results to a file"
   ]
  },
  {
   "cell_type": "code",
   "execution_count": null,
   "id": "a64d83a5-5f76-4366-9986-7ca6e8d353d8",
   "metadata": {},
   "outputs": [],
   "source": [
    "df_not_in_both"
   ]
  },
  {
   "cell_type": "markdown",
   "id": "9c93bcd8-5007-44c7-908b-75ae01494706",
   "metadata": {},
   "source": [
    "## Fix Checkpoint File by Removing Incorrect Entries"
   ]
  },
  {
   "cell_type": "code",
   "execution_count": null,
   "id": "3e8d523a-4a04-406a-8add-1145250806a4",
   "metadata": {},
   "outputs": [],
   "source": [
    "import pandas as pd\n",
    "\n",
    "# Load the main DataFrame\n",
    "file_path = 'image_status_checkpoint.csv'  # Replace with your actual file path\n",
    "df = pd.read_csv(file_path)\n"
   ]
  },
  {
   "cell_type": "code",
   "execution_count": null,
   "id": "c01f9035-5729-4af5-8cf4-56a3b1d0303f",
   "metadata": {},
   "outputs": [],
   "source": [
    "df"
   ]
  },
  {
   "cell_type": "code",
   "execution_count": null,
   "id": "9faace79-40c8-4cf9-bfde-98021e708821",
   "metadata": {},
   "outputs": [],
   "source": [
    "# Assuming df_not_in_both is already defined and loaded\n",
    "# Filter out rows in `df` that match `X` and `Y` pairs in `df_not_in_both`\n",
    "df_filtered = df[~df.set_index(['X', 'Y']).index.isin(df_not_in_both.set_index(['X', 'Y']).index)]"
   ]
  },
  {
   "cell_type": "code",
   "execution_count": null,
   "id": "96d46caa-1ff9-4f9c-a591-fd5932b1bba7",
   "metadata": {},
   "outputs": [],
   "source": [
    "df_filtered"
   ]
  },
  {
   "cell_type": "code",
   "execution_count": null,
   "id": "b937a19b-3052-4578-8e7f-70f48f58c69e",
   "metadata": {},
   "outputs": [],
   "source": [
    "# Save or display the filtered DataFrame\n",
    "df_filtered.to_csv('image_status_checkpoint.csv', index=False)  # Optional: save to a new file\n"
   ]
  },
  {
   "cell_type": "code",
   "execution_count": null,
   "id": "6e728ff9-f914-470a-bb15-de6e5a388a52",
   "metadata": {},
   "outputs": [],
   "source": [
    "import pandas as pd\n",
    "\n",
    "# Load CSV into a DataFrame\n",
    "df = pd.read_csv('unique_to_df1.csv')\n",
    "df"
   ]
  },
  {
   "cell_type": "markdown",
   "id": "e8f236b8-8514-475e-be34-ed79eb79290a",
   "metadata": {},
   "source": [
    "### Go back to 1.StreetView.ipynb\n",
    "After running this process, you should use `image_status_checkpoint.csv` as your reference file in **1.StreetView.ipynb**, but specifically, the filtered version saved at the end of the \"Fix Checkpoint File\" section.\n",
    "\n",
    "This filtered file (`image_status_checkpoint.csv` after modification) removes locations that have already been processed, ensuring that you only go through new locations without repeating the ones you've already covered.\n",
    "\n",
    "Steps to Proceed:\n",
    "1. Use the updated `image_status_checkpoint.csv` file for tracking progress.\n",
    "2. If you need to verify which locations are missing, check `unique_to_df2.csv` (locations in the original dataset but missing in the checkpoint).\n",
    "3. If you want to see extra locations in your checkpoint that are not in the original, check `unique_to_df1.csv`."
   ]
  }
 ],
 "metadata": {
  "kernelspec": {
   "display_name": "Python (kudzu)",
   "language": "python",
   "name": "pythonproject"
  },
  "language_info": {
   "codemirror_mode": {
    "name": "ipython",
    "version": 3
   },
   "file_extension": ".py",
   "mimetype": "text/x-python",
   "name": "python",
   "nbconvert_exporter": "python",
   "pygments_lexer": "ipython3",
   "version": "3.8.10"
  }
 },
 "nbformat": 4,
 "nbformat_minor": 5
}
