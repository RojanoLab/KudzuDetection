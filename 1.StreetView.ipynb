{
 "cells": [
  {
   "cell_type": "markdown",
   "id": "Vh0hNHPiqEA2",
   "metadata": {
    "id": "Vh0hNHPiqEA2"
   },
   "source": [
    "# Retrival of Google Street View Images (GSV) using the Street View Static API\n",
    "In this notebook, we download GSV images on the coordiantes provided by the datasets from the [INHABIT](https://gis.usgs.gov/inhabit/) database and  [EDDMaps](https://www.eddmaps.org/distribution/viewmap.cfm?sub=2425) database.  \n",
    "Both datasets provide information about Kudzu locations.  \n",
    "\n",
    "Before running the code, make sure the `inhabit.xlsx` and `eddmaps.csv` are inside the `/data` folder. If not, you can download them from\n",
    "[here](https://drive.google.com/drive/folders/1CM5DLkSH5283FnFY7Vh0yJ4qKHmk1sgd?usp=drive_link) and copy them into the folder.\n",
    "\n",
    "Make sure to add you `API key` and your `base folder`."
   ]
  },
  {
   "cell_type": "markdown",
   "id": "EtL4KLYeh78h",
   "metadata": {
    "id": "EtL4KLYeh78h"
   },
   "source": [
    "## 1. Data Preprocesisng"
   ]
  },
  {
   "cell_type": "markdown",
   "id": "c91bc5be-324f-4cfc-96b8-f9b0253baf62",
   "metadata": {
    "id": "himFAp47jPtc"
   },
   "source": [
    "### 1.1 Install Libraries"
   ]
  },
  {
   "cell_type": "code",
   "execution_count": null,
   "id": "Y8UOOVaIinZ7",
   "metadata": {
    "colab": {
     "base_uri": "https://localhost:8080/"
    },
    "id": "Y8UOOVaIinZ7",
    "outputId": "29306e66-ba9e-4a69-f717-2d4bedeb6370"
   },
   "outputs": [],
   "source": [
    "# If using Windows run this\n",
    "!pip install utm pandas numpy\n",
    "\n",
    "# If using MacOS run \"conda install -c conda-forge utm pandas numpy\""
   ]
  },
  {
   "cell_type": "code",
   "execution_count": null,
   "id": "00824473",
   "metadata": {
    "id": "00824473"
   },
   "outputs": [],
   "source": [
    "# using Python\n",
    "import requests\n",
    "import utm\n",
    "import csv\n",
    "import pandas as pd\n",
    "import numpy as np\n",
    "import os"
   ]
  },
  {
   "cell_type": "markdown",
   "id": "10480b16-efcf-481b-80f5-c95da94c7048",
   "metadata": {},
   "source": [
    "### 1.3 Create Dataset"
   ]
  },
  {
   "cell_type": "code",
   "execution_count": null,
   "id": "c4afdd47",
   "metadata": {},
   "outputs": [],
   "source": [
    "your_directory = \"YOUR_BASE_DIRECTORY_GOES_HERE\"\n",
    "output_dir = 'output'"
   ]
  },
  {
   "cell_type": "code",
   "execution_count": null,
   "id": "mkFqx33agbN4",
   "metadata": {
    "id": "mkFqx33agbN4"
   },
   "outputs": [],
   "source": [
    "# Join paths\n",
    "output_folder = os.path.join(your_directory, output_dir)\n",
    "print(\"Joined path:\", output_folder)\n",
    "\n",
    "# Create output folder if it doesn't exists\n",
    "if not os.path.exists(output_folder):\n",
    "    os.makedirs(output_folder)"
   ]
  },
  {
   "cell_type": "markdown",
   "id": "bf6a1144-4501-4230-aea8-ea946ddb10ba",
   "metadata": {},
   "source": [
    "#### INHABIT Dataset"
   ]
  },
  {
   "cell_type": "code",
   "execution_count": null,
   "id": "09878be6",
   "metadata": {},
   "outputs": [],
   "source": [
    "file_name = 'data/inhabit.xlsx'\n",
    "file_path = os.path.join(your_directory, file_name)\n",
    "print(\"Joined path:\", file_path)"
   ]
  },
  {
   "cell_type": "code",
   "execution_count": null,
   "id": "d895771c",
   "metadata": {
    "id": "d895771c",
    "scrolled": true
   },
   "outputs": [],
   "source": [
    "# All Data Dataframe\n",
    "df  = pd.read_excel(file_path, sheet_name='all_data') \n",
    "df.to_numpy()\n",
    "print(df)"
   ]
  },
  {
   "cell_type": "markdown",
   "id": "b2477f99-6d82-4529-8dc4-6954bea5f3ce",
   "metadata": {},
   "source": [
    "#### EDDMaps Dataset"
   ]
  },
  {
   "cell_type": "code",
   "execution_count": null,
   "id": "efa95a15-3bf2-4b1a-baf9-b5b9838e6b35",
   "metadata": {},
   "outputs": [],
   "source": [
    "new_data = pd.read_csv('data/eddmaps.csv')\n",
    "new_data = new_data.rename(columns={'Latitude': 'Y', 'Longitude': 'X'})\n",
    "print(new_data)"
   ]
  },
  {
   "cell_type": "markdown",
   "id": "89ab7edd-815a-4954-a7d2-a90cb2745d25",
   "metadata": {},
   "source": [
    "#### Join Datasets"
   ]
  },
  {
   "cell_type": "code",
   "execution_count": null,
   "id": "1651c9e8-799e-4384-b5cd-65036c6d3a91",
   "metadata": {},
   "outputs": [],
   "source": [
    "df = pd.merge(df, new_data, on=['X', 'Y'], how='outer')\n",
    "print(df)"
   ]
  },
  {
   "cell_type": "code",
   "execution_count": null,
   "id": "0ca14947-51d1-4dc5-8fb4-291906237e67",
   "metadata": {},
   "outputs": [],
   "source": [
    "# Drop duplicates based on all columns\n",
    "df = df.drop_duplicates()\n",
    "\n",
    "# Reset index if needed\n",
    "df.reset_index(drop=True, inplace=True)\n",
    "\n",
    "print(df)"
   ]
  },
  {
   "cell_type": "code",
   "execution_count": null,
   "id": "0f6ac0f7-ef0c-4fa4-9152-e8fe09c823f8",
   "metadata": {},
   "outputs": [],
   "source": [
    "# Check for missing or NaN values in your DataFrame for location coordinates\n",
    "missing_rows = df[df[['Y', 'X']].isnull().any(axis=1)]\n",
    "print(f\"Missing or invalid locations: {len(missing_rows)}\")\n",
    "\n",
    "# Optionally, you can drop rows with missing or NaN values to ensure complete processing\n",
    "df_cleaned = df.dropna(subset=['Y', 'X'])"
   ]
  },
  {
   "cell_type": "markdown",
   "id": "n4nRHbEH-68i",
   "metadata": {
    "id": "n4nRHbEH-68i"
   },
   "source": [
    "## 2. Download GSV Images"
   ]
  },
  {
   "cell_type": "markdown",
   "id": "tk2V_7aEqqDR",
   "metadata": {
    "id": "tk2V_7aEqqDR"
   },
   "source": [
    "We access coordinates from the DataFrame `df` using the `loc` method, e.g., `df.loc[0, \"X\"].`"
   ]
  },
  {
   "cell_type": "markdown",
   "id": "0051fdda-b64a-4ec4-9a0a-fdba5adc062b",
   "metadata": {},
   "source": [
    "##### *Longitude*"
   ]
  },
  {
   "cell_type": "code",
   "execution_count": null,
   "id": "5400bdd8",
   "metadata": {
    "colab": {
     "base_uri": "https://localhost:8080/"
    },
    "id": "5400bdd8",
    "outputId": "d7a9ede7-78e7-4445-946c-6c13658a4e6e"
   },
   "outputs": [],
   "source": [
    "df.loc[0, \"X\"]"
   ]
  },
  {
   "cell_type": "markdown",
   "id": "241eb131-a367-4a6f-bb18-23cdab397bb8",
   "metadata": {},
   "source": [
    "##### *Latitude*"
   ]
  },
  {
   "cell_type": "code",
   "execution_count": null,
   "id": "kW-XauVugC3Q",
   "metadata": {
    "colab": {
     "base_uri": "https://localhost:8080/"
    },
    "id": "kW-XauVugC3Q",
    "outputId": "ac50db79-020d-44ab-f6df-aae8945417e5"
   },
   "outputs": [],
   "source": [
    "df.loc[0, \"Y\"]"
   ]
  },
  {
   "cell_type": "markdown",
   "id": "0a65685f-dbec-4f0a-a5b6-231c3f68a5f4",
   "metadata": {},
   "source": [
    "### 2.1 Define API Metadata"
   ]
  },
  {
   "cell_type": "markdown",
   "id": "utGP2hC0q1ro",
   "metadata": {
    "id": "utGP2hC0q1ro"
   },
   "source": [
    "Make sure to set your API key.\n"
   ]
  },
  {
   "cell_type": "code",
   "execution_count": null,
   "id": "0436c061",
   "metadata": {
    "id": "0436c061"
   },
   "outputs": [],
   "source": [
    "ind=6\n",
    "meta_base = 'https://maps.googleapis.com/maps/api/streetview/metadata?'\n",
    "pic_base = 'https://maps.googleapis.com/maps/api/streetview?'\n",
    "api_key = 'YOUR_API_KEY_GOES_HERE'"
   ]
  },
  {
   "cell_type": "markdown",
   "id": "NiU3f7u4fDfR",
   "metadata": {
    "id": "NiU3f7u4fDfR"
   },
   "source": [
    "Street View Static API Street checks the status of the metadata of the image. In this code we only download the images with `status = 'ok'` as  images with other status don't have imagenery.  \n",
    "[Street View Static API Documentation.](https://developers.google.com/maps/documentation/streetview/metadata#status-codes\n",
    ")   "
   ]
  },
  {
   "cell_type": "code",
   "execution_count": null,
   "id": "77602382-d066-4191-b24b-05b1f8b0419b",
   "metadata": {},
   "outputs": [],
   "source": [
    "# Define your views\n",
    "views = [0, 90, 180, 270]\n",
    "\n",
    "# Define image counter\n",
    "img_count = 0\n",
    "valid_img_count = 0\n",
    "\n",
    "# Set the path for checkpoint file\n",
    "checkpoint_file = 'image_status_checkpoint.csv'\n",
    "\n",
    "# Load the already processed locations (if exists)\n",
    "processed_images = set()\n",
    "\n",
    "if os.path.exists(checkpoint_file):\n",
    "    with open(checkpoint_file, 'r') as file:\n",
    "        reader = csv.reader(file)\n",
    "        for row in reader:\n",
    "            latitude, longitude, view, status = row[:4]\n",
    "            processed_images.add((latitude, longitude, view))\n",
    "            img_count += 1  # Increment total image count\n",
    "            if status == \"OK\":\n",
    "                valid_img_count += 1  # Increment valid image count for \"OK\" status images"
   ]
  },
  {
   "cell_type": "markdown",
   "id": "e92f2b1b-52f7-4788-b3a4-0f54550a253d",
   "metadata": {},
   "source": [
    "#### Check for the amout of locations processed"
   ]
  },
  {
   "cell_type": "code",
   "execution_count": null,
   "id": "3b9f895a-e229-495c-b1c7-6d68e5be61fd",
   "metadata": {},
   "outputs": [],
   "source": [
    "print(len(df)*4)"
   ]
  },
  {
   "cell_type": "code",
   "execution_count": null,
   "id": "829b1c87-1db0-4ca3-9f47-1ede7f51e727",
   "metadata": {},
   "outputs": [],
   "source": [
    "print(f'img_count = {img_count}')\n",
    "print(f'valid_img_count = {valid_img_count}')"
   ]
  },
  {
   "cell_type": "markdown",
   "id": "c86a574d-0df4-4ed6-a35d-a761a250a468",
   "metadata": {},
   "source": [
    "### 2.2 Download Images "
   ]
  },
  {
   "cell_type": "code",
   "execution_count": null,
   "id": "eaf29420-53c9-4906-8584-c0ff75338612",
   "metadata": {},
   "outputs": [],
   "source": [
    "# Open the checkpoint file once, and use append mode to write every processed point\n",
    "with open(checkpoint_file, 'a', newline='') as checkpoint:\n",
    "    checkpoint_writer = csv.writer(checkpoint)\n",
    "\n",
    "    # Loop through your DataFrame\n",
    "    for ind, row in df.iterrows():\n",
    "        for view in views:\n",
    "            latitude = df.loc[ind, 'Y']\n",
    "            longitude = df.loc[ind, 'X']\n",
    "            location = f\"{latitude},{longitude}\"\n",
    "\n",
    "            # Skip if this image was already processed\n",
    "            if (str(latitude), str(longitude), str(view)) in processed_images:\n",
    "                #print(f\"Skipping already processed image {latitude}_{longitude}_{view}\")\n",
    "                continue\n",
    "\n",
    "            img_count += 1  # Increment total image count for each new image\n",
    "\n",
    "            # Define metadata request parameters\n",
    "            meta_params = {'key': api_key, 'location': location}\n",
    "\n",
    "            # Make metadata request\n",
    "            meta_response = requests.get(meta_base, params=meta_params)\n",
    "\n",
    "            # Initialize pic_response to None\n",
    "            pic_response = None\n",
    "            status = \"UNKNOWN\"  # Default status if no metadata is received\n",
    "\n",
    "            try:\n",
    "                # Check if metadata request was successful\n",
    "                if meta_response.status_code == 200:\n",
    "                    meta_data = meta_response.json()\n",
    "                    status = meta_data.get('status', 'UNKNOWN')  # Get status, or default to 'UNKNOWN'\n",
    "                    print(f\"{img_count}_Image_{latitude}_{longitude}_{view} Status: {status}\")\n",
    "\n",
    "                    # Only download and save images if status is \"OK\"\n",
    "                    if status == \"OK\":\n",
    "                        # Define picture request parameters\n",
    "                        pic_params = {\n",
    "                            'key': api_key,\n",
    "                            'location': location,\n",
    "                            'heading': view,\n",
    "                            'size': \"512x512\",\n",
    "                            'fov': \"120\",\n",
    "                        }\n",
    "\n",
    "                        # Make picture request\n",
    "                        pic_response = requests.get(pic_base, params=pic_params)\n",
    "\n",
    "                        # Check if picture request was successful\n",
    "                        if pic_response.status_code == 200:\n",
    "                            # Define the image filename based on the coordinates\n",
    "                            valid_img_count += 1\n",
    "                            image_filename = f\"{output_folder}/image_{latitude}_{longitude}_{view}.jpg\"\n",
    "\n",
    "                            # Save the downloaded image with the coordinates as the filename\n",
    "                            with open(image_filename, 'wb') as file:\n",
    "                                file.write(pic_response.content)\n",
    "                            print(f\"{valid_img_count}_Image saved: {image_filename}\")\n",
    "                        else:\n",
    "                            print(f\"Error downloading image for location: {location}_{view}\")\n",
    "                else:\n",
    "                    print(f\"Error fetching metadata for location: {location}_{view}\")\n",
    "\n",
    "                # Write the status of every image (whether \"OK\" or not)\n",
    "                checkpoint_writer.writerow([latitude, longitude, view, status])\n",
    "                checkpoint.flush()  # Ensure data is immediately written to file\n",
    "\n",
    "                # Add the current image to the processed set\n",
    "                processed_images.add((str(latitude), str(longitude), str(view)))\n",
    "\n",
    "            except Exception as e:\n",
    "                print(f\"Error processing metadata or image: {e}\")\n",
    "\n",
    "            finally:\n",
    "                # Close the response connections\n",
    "                meta_response.close()\n",
    "                if pic_response:\n",
    "                    pic_response.close()  # Close only if pic_response was initialized"
   ]
  },
  {
   "cell_type": "markdown",
   "id": "ec89e34e-e42f-4fe0-8183-38a86b7720a3",
   "metadata": {},
   "source": [
    "### 2.4 Number of Images Checker\n",
    "If after running the cell above, no more images are being downloaded. -->  Run the cell below.  \n",
    "If `img_count` doesn't match with `number of possible locations` or the `number of checked images`. --> Go to file CoordinatesCheck.ipynb."
   ]
  },
  {
   "cell_type": "code",
   "execution_count": null,
   "id": "725b6443-c2b7-4d38-a2a5-f87ed7c25b8e",
   "metadata": {},
   "outputs": [],
   "source": [
    "print(f'img_count = {img_count}')\n",
    "\n",
    "print(f'Number of possible images = {len(df)*4}')\n",
    "\n",
    "file_path = 'image_status_checkpoint.csv'\n",
    "check_df = pd.read_csv(file_path)\n",
    "print(f'Number of checked images = {len(check_df)}')"
   ]
  },
  {
   "cell_type": "markdown",
   "id": "b6IsMPhllbL8",
   "metadata": {
    "id": "b6IsMPhllbL8"
   },
   "source": [
    "## 3. Images Quality Checker"
   ]
  },
  {
   "cell_type": "markdown",
   "id": "QHznYJvUj9Xi",
   "metadata": {
    "id": "QHznYJvUj9Xi"
   },
   "source": [
    "Define function to count files in folder."
   ]
  },
  {
   "cell_type": "code",
   "execution_count": null,
   "id": "N1pADOZg17P1",
   "metadata": {
    "id": "N1pADOZg17P1"
   },
   "outputs": [],
   "source": [
    "def count_files(folder_path):\n",
    "    # Initialize a counter variable\n",
    "    file_count = 0\n",
    "\n",
    "    # Iterate through each file in the folder\n",
    "    for file_name in os.listdir(folder_path):\n",
    "        # Check if the path is a file (not a directory)\n",
    "        if os.path.isfile(os.path.join(folder_path, file_name)):\n",
    "            file_count += 1\n",
    "\n",
    "    return file_count"
   ]
  },
  {
   "cell_type": "markdown",
   "id": "beD1pebmkDCu",
   "metadata": {
    "id": "beD1pebmkDCu"
   },
   "source": [
    "Count how many images we obtained and how many images had `status=ZERO_RESULTS`."
   ]
  },
  {
   "cell_type": "code",
   "execution_count": null,
   "id": "rUkaInsIkEg-",
   "metadata": {
    "colab": {
     "base_uri": "https://localhost:8080/"
    },
    "id": "rUkaInsIkEg-",
    "outputId": "f108079d-d4f0-45b2-965b-ce23b4c68202"
   },
   "outputs": [],
   "source": [
    "# Call the function to count the files\n",
    "num_ok_images = count_files(output_folder)\n",
    "num_bad_files = img_count - num_ok_images\n",
    "\n",
    "# Print the number of files in the folder\n",
    "print(f\"Number of good images: {num_ok_images}\")\n",
    "print(f\"Number of bad images: {num_bad_files}\")\n",
    "print(f\"Number of images: {num_ok_images+num_bad_files}\")\n"
   ]
  },
  {
   "cell_type": "markdown",
   "id": "VahfsLaulVvF",
   "metadata": {
    "id": "VahfsLaulVvF"
   },
   "source": [
    "Check the amount of locations we lost."
   ]
  },
  {
   "cell_type": "code",
   "execution_count": null,
   "id": "ZeZzCQq-lGPE",
   "metadata": {
    "colab": {
     "base_uri": "https://localhost:8080/"
    },
    "id": "ZeZzCQq-lGPE",
    "outputId": "edbb2966-2fb0-4291-be08-81f575d030e6"
   },
   "outputs": [],
   "source": [
    "num_points = num_bad_files/4\n",
    "print(\"Number of lost points:\", num_points)"
   ]
  }
 ],
 "metadata": {
  "colab": {
   "gpuType": "T4",
   "provenance": []
  },
  "kernelspec": {
   "display_name": "Python (kudzu)",
   "language": "python",
   "name": "pythonproject"
  },
  "language_info": {
   "codemirror_mode": {
    "name": "ipython",
    "version": 3
   },
   "file_extension": ".py",
   "mimetype": "text/x-python",
   "name": "python",
   "nbconvert_exporter": "python",
   "pygments_lexer": "ipython3",
   "version": "3.8.10"
  }
 },
 "nbformat": 4,
 "nbformat_minor": 5
}
