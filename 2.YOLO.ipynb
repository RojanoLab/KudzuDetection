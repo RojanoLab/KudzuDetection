{
 "cells": [
  {
   "cell_type": "markdown",
   "metadata": {},
   "source": [
    "# Kudzu Object Detection\n",
    "### Detect Kudzu Plant from Object Detection"
   ]
  },
  {
   "cell_type": "markdown",
   "metadata": {},
   "source": [
    "## 0. Check for GPU  \n",
    "This command verifies if an NVIDIA GPU is available for faster training."
   ]
  },
  {
   "cell_type": "code",
   "execution_count": null,
   "metadata": {
    "colab": {
     "base_uri": "https://localhost:8080/"
    },
    "id": "iNIYcW7PzoTb",
    "outputId": "f6bb9aea-cb64-4548-c840-8b42bf68b783"
   },
   "outputs": [],
   "source": [
    "!nvidia-smi"
   ]
  },
  {
   "cell_type": "markdown",
   "metadata": {},
   "source": [
    "## 1. Install libraries"
   ]
  },
  {
   "cell_type": "code",
   "execution_count": null,
   "metadata": {
    "colab": {
     "base_uri": "https://localhost:8080/"
    },
    "id": "0KPcB-34ztAD",
    "outputId": "786c488e-1922-4637-9c93-f803e7cc5693"
   },
   "outputs": [],
   "source": [
    "!pip install ultralytics roboflow"
   ]
  },
  {
   "cell_type": "code",
   "execution_count": null,
   "metadata": {
    "colab": {
     "base_uri": "https://localhost:8080/"
    },
    "id": "zVnoarrpz08H",
    "outputId": "2c494872-c314-43f1-922a-d2fef4dd4453"
   },
   "outputs": [],
   "source": [
    "from ultralytics import YOLO\n",
    "import os\n",
    "from IPython.display import display, Image\n",
    "from IPython import display\n",
    "import os \n",
    "import shutil\n",
    "from math import ceil\n",
    "import subprocess\n",
    "import json\n",
    "display.clear_output()\n",
    "!yolo checks\n"
   ]
  },
  {
   "cell_type": "markdown",
   "metadata": {},
   "source": [
    "## 2. Load Dataset"
   ]
  },
  {
   "cell_type": "markdown",
   "metadata": {},
   "source": [
    "Download dataset from Roboflow using API key."
   ]
  },
  {
   "cell_type": "code",
   "execution_count": null,
   "metadata": {
    "colab": {
     "base_uri": "https://localhost:8080/"
    },
    "id": "YHKNdDwE0Na7",
    "outputId": "7d2dedd5-3e59-4a6b-df75-936fcc5b605c"
   },
   "outputs": [],
   "source": [
    "from roboflow import Roboflow\n",
    "rf = Roboflow(api_key=\"YOUR_API_KEY_GOES_HERE\")\n",
    "project = rf.workspace(\"test-mhm3s\").project(\"kudzu_full_images\")\n",
    "version = project.version(3)\n",
    "dataset = version.download(\"yolov8\")         "
   ]
  },
  {
   "cell_type": "markdown",
   "metadata": {},
   "source": [
    "## 3. Train Model\n",
    "Train YOLOv8 with our costum kudzu dataset from Roboflow."
   ]
  },
  {
   "cell_type": "code",
   "execution_count": null,
   "metadata": {},
   "outputs": [],
   "source": [
    "!yolo task=detect mode=train model=yolov8s.pt data={dataset.location}/data.yaml epochs=50 imgsz=512 lr0 = 0.001\n"
   ]
  },
  {
   "cell_type": "markdown",
   "metadata": {},
   "source": [
    "Add the path after \"Results saved to\" here:"
   ]
  },
  {
   "cell_type": "code",
   "execution_count": null,
   "metadata": {},
   "outputs": [],
   "source": [
    "results_folder = '/home/student/Desktop/runs/detect/train'"
   ]
  },
  {
   "cell_type": "markdown",
   "metadata": {},
   "source": [
    "#### Confusion Matrix"
   ]
  },
  {
   "cell_type": "code",
   "execution_count": null,
   "metadata": {},
   "outputs": [],
   "source": [
    "filename = 'confusion_matrix.png'\n",
    "confusion_matrix = os.path.join(results_folder, filename)"
   ]
  },
  {
   "cell_type": "code",
   "execution_count": null,
   "metadata": {
    "colab": {
     "base_uri": "https://localhost:8080/",
     "height": 467
    },
    "id": "0nW6XYhVyZIE",
    "outputId": "ce959f74-0b6e-4f54-ca89-5c1800eaed90"
   },
   "outputs": [],
   "source": [
    "Image(filename=confusion_matrix, width=600)"
   ]
  },
  {
   "cell_type": "markdown",
   "metadata": {},
   "source": [
    "#### Train Results"
   ]
  },
  {
   "cell_type": "code",
   "execution_count": null,
   "metadata": {},
   "outputs": [],
   "source": [
    "filename = 'results.png'\n",
    "results = os.path.join(results_folder, filename)"
   ]
  },
  {
   "cell_type": "code",
   "execution_count": null,
   "metadata": {
    "colab": {
     "base_uri": "https://localhost:8080/",
     "height": 317
    },
    "id": "N7mzALxbzCEy",
    "outputId": "cc25ebc3-3089-4e36-aa30-32f2692f5884"
   },
   "outputs": [],
   "source": [
    "Image(filename=results, width=600)"
   ]
  },
  {
   "cell_type": "markdown",
   "metadata": {},
   "source": [
    "## 4. Validation"
   ]
  },
  {
   "cell_type": "markdown",
   "metadata": {},
   "source": [
    "### 4.1 Validate the Base YOLOv8 Model (Pretrained)\n",
    "This runs validation using the original YOLOv8 Small (yolov8s.pt) without fine-tuning on kudzu images."
   ]
  },
  {
   "cell_type": "code",
   "execution_count": null,
   "metadata": {
    "scrolled": true
   },
   "outputs": [],
   "source": [
    "!yolo task=detect mode=val model=yolov8s.pt data={dataset.location}/data.yaml"
   ]
  },
  {
   "cell_type": "markdown",
   "metadata": {},
   "source": [
    "### 4.2 Validate the Fine-Tuned Kudzu Model\n",
    "This runs validation using the model you trained specifically for kudzu detection.  \n",
    "Get the `best.pt` file from the subfolder named `/weights` inside the folder were results saved to."
   ]
  },
  {
   "cell_type": "code",
   "execution_count": null,
   "metadata": {
    "colab": {
     "base_uri": "https://localhost:8080/"
    },
    "id": "g5Y6131MzFKx",
    "outputId": "629cf498-8a83-499d-ce6a-7a1dd045fa5f",
    "scrolled": true
   },
   "outputs": [],
   "source": [
    "!yolo task=detect mode=val model=/home/student/Desktop/runs/detect/train16/weights/best.pt data={dataset.location}/data.yaml"
   ]
  },
  {
   "cell_type": "markdown",
   "metadata": {},
   "source": [
    "## 5. Predict Images"
   ]
  },
  {
   "cell_type": "markdown",
   "metadata": {},
   "source": [
    "##### Folder Containing GSV Images to Detect Kudzu"
   ]
  },
  {
   "cell_type": "code",
   "execution_count": null,
   "metadata": {},
   "outputs": [],
   "source": [
    "# This is the folder where you cloned the GitHub repository.\n",
    "your_directory = \"YOUR_BASE_DIRECTORY_GOES_HERE\"\n",
    "\n",
    "# Join paths\n",
    "source_folder = os.path.join(your_directory, 'output')\n",
    "print(\"Joined path:\", source_folder)\n",
    "\n",
    "# Alert if source folder doesn't exists\n",
    "if not os.path.exists(source_folder):\n",
    "    print(f'{source_folder} does not exist')"
   ]
  },
  {
   "cell_type": "code",
   "execution_count": null,
   "metadata": {},
   "outputs": [],
   "source": [
    "# Make sure this is the folder where you saved the images downloaded in GSV.\n",
    "print(source_folder)"
   ]
  },
  {
   "cell_type": "markdown",
   "metadata": {},
   "source": [
    "##### Get all the GSV images "
   ]
  },
  {
   "cell_type": "code",
   "execution_count": null,
   "metadata": {},
   "outputs": [],
   "source": [
    "image_files = [f for f in os.listdir(source_folder) if os.path.isfile(os.path.join(source_folder, f))]"
   ]
  },
  {
   "cell_type": "markdown",
   "metadata": {},
   "source": [
    "##### Define all the paths, variables and log files."
   ]
  },
  {
   "cell_type": "code",
   "execution_count": null,
   "metadata": {},
   "outputs": [],
   "source": [
    "# This is the folder where your weights are saved after training.\n",
    "model_path = \"/home/student/Desktop/runs/detect/train/weights/best.pt\"\n",
    "\n",
    "# Modify this threshold\n",
    "conf_threshold = 0.5 \n",
    "\n",
    "# Log files\n",
    "processed_log = \"processed_images_v1.txt\"  # Log file to track processed images\n",
    "detections_log = \"detections_above_threshold_v1.txt\"  # Log file to track images with detections above threshold"
   ]
  },
  {
   "cell_type": "markdown",
   "metadata": {},
   "source": [
    "##### Log Functions "
   ]
  },
  {
   "cell_type": "code",
   "execution_count": null,
   "metadata": {},
   "outputs": [],
   "source": [
    "# Function to load already processed images from log file\n",
    "def load_processed_images(log_file):\n",
    "    if os.path.exists(log_file):\n",
    "        with open(log_file, 'r') as f:\n",
    "            return set(line.strip() for line in f)\n",
    "    return set()\n",
    "\n",
    "def count_processed_images(processed_set):\n",
    "    return len(processed_set)\n",
    "    \n",
    "# Function to append new processed image to log file\n",
    "def log_processed_image(log_file, image_path):\n",
    "    with open(log_file, 'a') as f:\n",
    "        f.write(f\"{image_path}\\n\")\n"
   ]
  },
  {
   "cell_type": "markdown",
   "metadata": {},
   "source": [
    "#### Image Predictions"
   ]
  },
  {
   "cell_type": "code",
   "execution_count": null,
   "metadata": {},
   "outputs": [],
   "source": [
    "# Load the list of already processed images\n",
    "processed_images = load_processed_images(processed_log)\n",
    "processed_count = count_processed_images(processed_images)\n",
    "\n",
    "# Print the processed count after all images are processed\n",
    "print(f\"Skipping {processed_count} images already processed.\")\n",
    "\n",
    "# Process each image in the subdirectory\n",
    "for image_file in image_files:\n",
    "    image_path = os.path.join(source_folder, image_file)\n",
    "\n",
    "    # Check if this image has already been processed (skip if true)\n",
    "    if image_path in processed_images:    \n",
    "        continue  \n",
    "\n",
    "    # Construct the YOLO command with confidence threshold\n",
    "    yolo_command = [\n",
    "        \"yolo\", \n",
    "        \"task=detect\", \n",
    "        \"mode=predict\", \n",
    "        f\"model={model_path}\", \n",
    "        f\"source={image_path}\",\n",
    "        f\"conf={conf_threshold}\"  \n",
    "    ]\n",
    "\n",
    "    # Run the YOLO command using subprocess and capture output\n",
    "    result = subprocess.run(yolo_command, capture_output=True, text=True)\n",
    "\n",
    "    # Get YOLO's raw output for analysis\n",
    "    output = result.stdout\n",
    "\n",
    "    # Check if there is a Kudzu detection by looking for 'kudzu' in the output\n",
    "    if \"kudzu\" in output:  # Adjust this based on actual YOLO output structure\n",
    "        print(f\"Kudzu detected for {image_path} with confidence above {conf_threshold * 100}%\")\n",
    "\n",
    "        # Log this image as having Kudzu detections above the threshold\n",
    "        with open(detections_log, 'a') as f:\n",
    "            f.write(f\"{image_path}\\n\")\n",
    "\n",
    "    # Mark this image as processed by logging it\n",
    "    log_processed_image(processed_log, image_path)\n",
    "\n",
    "print(\"✅ YOLO detection completed for all images.\")"
   ]
  },
  {
   "cell_type": "markdown",
   "metadata": {},
   "source": [
    "## 6. Visualize Results\n",
    "6a. You can visualize your results in the predict folder that will be created in the runs folder.  \n",
    "6b. You can also use the code below to obtain all the detections above threshold, save them in a new folder, and display 10 random detections."
   ]
  },
  {
   "cell_type": "code",
   "execution_count": null,
   "metadata": {},
   "outputs": [],
   "source": [
    "import os\n",
    "import shutil\n",
    "from pathlib import Path\n",
    "import random\n",
    "import matplotlib.pyplot as plt\n",
    "import matplotlib.image as mpimg"
   ]
  },
  {
   "cell_type": "code",
   "execution_count": null,
   "metadata": {},
   "outputs": [],
   "source": [
    "# Update this for your runs/detect folder path\n",
    "root_directory = '/home/student/Desktop/runs/detect/'  "
   ]
  },
  {
   "cell_type": "code",
   "execution_count": null,
   "metadata": {},
   "outputs": [],
   "source": [
    "# Detections file Path\n",
    "text_file_path = 'detections_above_threshold_v1.txt'  "
   ]
  },
  {
   "cell_type": "code",
   "execution_count": null,
   "metadata": {},
   "outputs": [],
   "source": [
    "# Step 0: Create new directory for all detections\n",
    "output_directory = os.path.join(your_directory, 'matching_images_v1')\n",
    "print(\"Joined path:\", output_directory)\n",
    "\n",
    "if not os.path.exists(output_directory):\n",
    "    os.makedirs(output_directory, exist_ok=True)"
   ]
  },
  {
   "cell_type": "code",
   "execution_count": null,
   "metadata": {},
   "outputs": [],
   "source": [
    "# Step 1: Read image paths from the text file and extract filenames\n",
    "try:\n",
    "    with open(text_file_path, 'r') as file:\n",
    "        # Extract only the filenames from the full paths in the text file\n",
    "        listed_image_filenames = {os.path.basename(line.strip()) for line in file.readlines()}\n",
    "    print(f\"Loaded {len(listed_image_filenames)} image filenames from text file.\")\n",
    "except FileNotFoundError:\n",
    "    print('Text file not found! Check the file path.')\n",
    "    listed_image_filenames = set()"
   ]
  },
  {
   "cell_type": "code",
   "execution_count": null,
   "metadata": {},
   "outputs": [],
   "source": [
    "# Step 2: Check if root directory exists and process images\n",
    "try:\n",
    "    predict_folders = [d for d in Path(root_directory).iterdir() if d.is_dir() and d.name.startswith('predict')]\n",
    "    print(f\"Found {len(predict_folders)} 'predict' folders.\")\n",
    "\n",
    "    for folder in predict_folders:\n",
    "        print(f\"Processing folder: {folder}\")\n",
    "        for file in folder.glob('*.*'):  # Match all files with any extension\n",
    "            if file.name in listed_image_filenames:  # Compare only filenames\n",
    "                print(f'Copying: {file}')\n",
    "                shutil.copy(str(file), output_directory)\n",
    "except FileNotFoundError:\n",
    "    print('Root directory not found! Check the directory path.')"
   ]
  },
  {
   "cell_type": "code",
   "execution_count": null,
   "metadata": {},
   "outputs": [],
   "source": [
    "# Step 3: Fetch all image file paths from the output directory\n",
    "if os.path.exists(output_directory):\n",
    "    image_files = [os.path.join(output_directory, f) for f in os.listdir(output_directory) if f.lower().endswith(('png', 'jpg', 'jpeg'))]\n",
    "    \n",
    "    # Step 4: Randomly select 10 images from the list (or fewer if less than 10)\n",
    "    if len(image_files) > 10:\n",
    "        random_images = random.sample(image_files, 10)\n",
    "    else:\n",
    "        random_images = image_files  # Select all if less than 10\n",
    "    \n",
    "    # Step 5: Display the randomly selected images using matplotlib\n",
    "    plt.figure(figsize=(30, 20))\n",
    "    \n",
    "    for i, img_path in enumerate(random_images):\n",
    "        # Load and display each image\n",
    "        print(i+1, img_path)\n",
    "        img = mpimg.imread(img_path)\n",
    "        plt.subplot(2, 5, i + 1)  # Create a grid of 2 rows and 5 columns\n",
    "        plt.imshow(img)\n",
    "        plt.axis('off')  # Hide axis for better visualization\n",
    "        plt.title(os.path.basename(img_path))  # Display filename as title\n",
    "    \n",
    "    plt.tight_layout()\n",
    "    plt.show()\n",
    "else:\n",
    "    print(f\"Directory does not exist: {output_directory}\")"
   ]
  }
 ],
 "metadata": {
  "accelerator": "GPU",
  "colab": {
   "gpuType": "T4",
   "provenance": []
  },
  "kernelspec": {
   "display_name": "myenv",
   "language": "python",
   "name": "myenv"
  },
  "language_info": {
   "codemirror_mode": {
    "name": "ipython",
    "version": 3
   },
   "file_extension": ".py",
   "mimetype": "text/x-python",
   "name": "python",
   "nbconvert_exporter": "python",
   "pygments_lexer": "ipython3",
   "version": "3.8.10"
  }
 },
 "nbformat": 4,
 "nbformat_minor": 4
}
