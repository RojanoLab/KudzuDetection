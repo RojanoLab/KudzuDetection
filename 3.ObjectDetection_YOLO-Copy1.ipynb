{
 "cells": [
  {
   "cell_type": "code",
   "execution_count": null,
   "metadata": {
    "colab": {
     "base_uri": "https://localhost:8080/"
    },
    "id": "iNIYcW7PzoTb",
    "outputId": "f6bb9aea-cb64-4548-c840-8b42bf68b783"
   },
   "outputs": [],
   "source": [
    "!nvidia-smi"
   ]
  },
  {
   "cell_type": "code",
   "execution_count": null,
   "metadata": {},
   "outputs": [],
   "source": [
    "!pip list"
   ]
  },
  {
   "cell_type": "code",
   "execution_count": null,
   "metadata": {},
   "outputs": [],
   "source": []
  },
  {
   "cell_type": "code",
   "execution_count": null,
   "metadata": {
    "colab": {
     "base_uri": "https://localhost:8080/"
    },
    "id": "0KPcB-34ztAD",
    "outputId": "786c488e-1922-4637-9c93-f803e7cc5693"
   },
   "outputs": [],
   "source": [
    "!pip install ultralytics roboflow"
   ]
  },
  {
   "cell_type": "code",
   "execution_count": null,
   "metadata": {
    "colab": {
     "base_uri": "https://localhost:8080/"
    },
    "id": "zVnoarrpz08H",
    "outputId": "2c494872-c314-43f1-922a-d2fef4dd4453"
   },
   "outputs": [],
   "source": [
    "from ultralytics import YOLO\n",
    "import os\n",
    "from IPython.display import display, Image\n",
    "from IPython import display\n",
    "display.clear_output()\n",
    "!yolo checks\n"
   ]
  },
  {
   "cell_type": "markdown",
   "metadata": {},
   "source": [
    "## Load Dataset"
   ]
  },
  {
   "cell_type": "markdown",
   "metadata": {},
   "source": [
    "Get the code from roboflow"
   ]
  },
  {
   "cell_type": "code",
   "execution_count": null,
   "metadata": {
    "colab": {
     "base_uri": "https://localhost:8080/"
    },
    "id": "YHKNdDwE0Na7",
    "outputId": "7d2dedd5-3e59-4a6b-df75-936fcc5b605c"
   },
   "outputs": [],
   "source": [
    "from roboflow import Roboflow\n",
    "rf = Roboflow(api_key=\"YOUR_API_KEY_GOES_HERE\")\n",
    "project = rf.workspace(\"test-mhm3s\").project(\"kudzu-in-gsv\")\n",
    "version = project.version(3)\n",
    "dataset = version.download(\"yolov8\")\n",
    "                "
   ]
  },
  {
   "cell_type": "markdown",
   "metadata": {},
   "source": [
    "## Train Model"
   ]
  },
  {
   "cell_type": "code",
   "execution_count": null,
   "metadata": {
    "colab": {
     "base_uri": "https://localhost:8080/"
    },
    "id": "bOgy3tLxx0FF",
    "outputId": "25795739-674a-42fc-9b20-729bae824f58"
   },
   "outputs": [],
   "source": [
    "!yolo task=detect mode=train model=yolov8s.pt data={dataset.location}/data.yaml epochs=20 imgsz=512"
   ]
  },
  {
   "cell_type": "markdown",
   "metadata": {},
   "source": [
    "#### Confusion Matrix"
   ]
  },
  {
   "cell_type": "code",
   "execution_count": null,
   "metadata": {
    "colab": {
     "base_uri": "https://localhost:8080/",
     "height": 467
    },
    "id": "0nW6XYhVyZIE",
    "outputId": "ce959f74-0b6e-4f54-ca89-5c1800eaed90"
   },
   "outputs": [],
   "source": [
    "Image(filename='/Users/alba/KudzuClassification/ObjectDetection/runs/detect/train/confusion_matrix.png', width=600)"
   ]
  },
  {
   "cell_type": "markdown",
   "metadata": {},
   "source": [
    "#### Train Results"
   ]
  },
  {
   "cell_type": "code",
   "execution_count": null,
   "metadata": {
    "colab": {
     "base_uri": "https://localhost:8080/",
     "height": 317
    },
    "id": "N7mzALxbzCEy",
    "outputId": "cc25ebc3-3089-4e36-aa30-32f2692f5884"
   },
   "outputs": [],
   "source": [
    "Image(filename='/Users/alba/KudzuClassification/ObjectDetection/runs/detect/train/results.png', width=600)"
   ]
  },
  {
   "cell_type": "markdown",
   "metadata": {},
   "source": [
    "## Validation"
   ]
  },
  {
   "cell_type": "code",
   "execution_count": null,
   "metadata": {
    "colab": {
     "base_uri": "https://localhost:8080/"
    },
    "id": "g5Y6131MzFKx",
    "outputId": "629cf498-8a83-499d-ce6a-7a1dd045fa5f",
    "scrolled": true
   },
   "outputs": [],
   "source": [
    "!yolo task=detect mode=val model=/Users/alba/KudzuClassification/ObjectDetection/weights/best_v3.pt data={dataset.location}/data.yaml"
   ]
  },
  {
   "cell_type": "markdown",
   "metadata": {},
   "source": [
    "## Predict Images"
   ]
  },
  {
   "cell_type": "code",
   "execution_count": null,
   "metadata": {},
   "outputs": [],
   "source": [
    "import os \n",
    "import shutil\n",
    "from math import ceil\n",
    "import json\n",
    "\n",
    "source_folder = '/Users/alba/KudzuClassification/ObjectDetection/output'\n",
    "\n",
    "image_files = [f for f in os.listdir(source_folder) if os.path.isfile(os.path.join(source_folder, f))]"
   ]
  },
  {
   "cell_type": "code",
   "execution_count": null,
   "metadata": {},
   "outputs": [],
   "source": [
    "import os\n",
    "import subprocess\n",
    "\n",
    "# Define the path where your subfolders are located\n",
    "base_directory = \"/Users/alba/KudzuClassification/ObjectDetection/output\"  # Change this to your base folder containing 68 subfolders\n",
    "model_path = \"/Users/alba/KudzuClassification/ObjectDetection/weights/best_v3.pt\"\n",
    "conf_threshold = 0.95  # Set confidence threshold to 95%\n",
    "processed_log = \"processed_images_v3.txt\"  # Log file to track processed images\n",
    "detections_log = \"detections_above_threshold_v3.txt\"  # Log file to track images with detections above threshold\n",
    "\n",
    "\n",
    "# Function to load already processed images from log file\n",
    "def load_processed_images(log_file):\n",
    "    if os.path.exists(log_file):\n",
    "        with open(log_file, 'r') as f:\n",
    "            return set(line.strip() for line in f)\n",
    "    return set()\n",
    "\n",
    "def count_processed_images(processed_set):\n",
    "    return len(processed_set)\n",
    "    \n",
    "# Function to append new processed image to log file\n",
    "def log_processed_image(log_file, image_path):\n",
    "    with open(log_file, 'a') as f:\n",
    "        f.write(f\"{image_path}\\n\")\n"
   ]
  },
  {
   "cell_type": "code",
   "execution_count": null,
   "metadata": {},
   "outputs": [],
   "source": [
    "# Load the list of already processed images\n",
    "processed_images = load_processed_images(processed_log)\n",
    "processed_count = count_processed_images(processed_images)\n",
    "# Print the processed count after all images are processed\n",
    "print(f\"Skipping {processed_count} images already processed.\")\n",
    "\n",
    "# Process each image in the subdirectory\n",
    "for image_file in image_files:\n",
    "    image_path = os.path.join(base_directory, image_file)\n",
    "\n",
    "    # Check if this image has already been processed (skip if true)\n",
    "    if image_path in processed_images:    \n",
    "        continue\n",
    "        \n",
    "    \n",
    "\n",
    "    # Construct the YOLO command with confidence threshold\n",
    "    yolo_command = [\n",
    "        \"yolo\", \n",
    "        \"task=detect\", \n",
    "        \"mode=predict\", \n",
    "        f\"model={model_path}\", \n",
    "        f\"source={image_path}\",\n",
    "        f\"conf={conf_threshold}\"  # Set confidence threshold to 90%\n",
    "    ]\n",
    "\n",
    "    # Run the YOLO command using subprocess and capture output\n",
    "    #print(f\"Running YOLO on {image_path}...\")\n",
    "    result = subprocess.run(yolo_command, capture_output=True, text=True)\n",
    "\n",
    "    # Get YOLO's raw output for analysis\n",
    "    output = result.stdout\n",
    "    #print(f\"YOLO Output for {image_path}:\\n{output}\")\n",
    "\n",
    "    # Check if there is a Kudzu detection by looking for 'kudzu' in the output\n",
    "    if \"kudzu\" in output:  # Adjust this based on actual YOLO output structure\n",
    "        print(f\"Kudzu detected for {image_path} with confidence above {conf_threshold * 100}%\")\n",
    "\n",
    "        # Log this image as having Kudzu detections above the threshold\n",
    "        with open(detections_log, 'a') as f:\n",
    "            f.write(f\"{image_path}\\n\")\n",
    "\n",
    "    # Mark this image as processed by logging it\n",
    "    log_processed_image(processed_log, image_path)\n",
    "\n",
    "\n",
    "print(\"YOLO detection completed for all images.\")\n"
   ]
  },
  {
   "cell_type": "code",
   "execution_count": null,
   "metadata": {},
   "outputs": [],
   "source": []
  },
  {
   "cell_type": "markdown",
   "metadata": {},
   "source": [
    "### Split Images into Folders"
   ]
  },
  {
   "cell_type": "code",
   "execution_count": null,
   "metadata": {},
   "outputs": [],
   "source": [
    "import os\n",
    "import shutil\n",
    "from math import ceil\n",
    "import json\n",
    "\n",
    "# Define the source folder and destination folder\n",
    "source_folder = \"/home/student/Desktop/KudzuClassification/ObjectDetection/output\"\n",
    "destination_folder = \"/home/student/Desktop/KudzuClassification/ObjectDetection/predict\"\n",
    "\n",
    "# Get a list of all image files in the source folder\n",
    "image_files = [f for f in os.listdir(source_folder) if os.path.isfile(os.path.join(source_folder, f))]\n"
   ]
  },
  {
   "cell_type": "code",
   "execution_count": null,
   "metadata": {},
   "outputs": [],
   "source": [
    "def find_divisors(n):\n",
    "    divisors = set()  # Using a set to avoid duplicates\n",
    "    for i in range(1, int(n**0.5) + 1):  # Iterate up to the square root of n\n",
    "        if n % i == 0:  # If i is a divisor\n",
    "            divisors.add(i)  # Add i\n",
    "            divisors.add(n // i)  # Add the corresponding divisor n // i\n",
    "    return sorted(divisors)  # Return the divisors in sorted order\n",
    "\n",
    "divisors = find_divisors(len(image_files))\n",
    "print(f\"The divisors of {len(image_files)} are: {divisors}\")"
   ]
  },
  {
   "cell_type": "code",
   "execution_count": null,
   "metadata": {},
   "outputs": [],
   "source": [
    "# Define the number of subfolders you want to create, chose one of the divisiors\n",
    "num_subfolders = 68  # Change this to however many subfolders you want\n",
    "\n",
    "# Calculate how many images should be in each subfolder\n",
    "images_per_folder = ceil(len(image_files) / num_subfolders)\n",
    "print(images_per_folder)"
   ]
  },
  {
   "cell_type": "code",
   "execution_count": null,
   "metadata": {},
   "outputs": [],
   "source": [
    "# Create the destination subfolders and distribute the images\n",
    "for i in range(num_subfolders):\n",
    "    # Create a new subfolder\n",
    "    subfolder_path = os.path.join(destination_folder, f\"subfolder_{i+1}\")\n",
    "    os.makedirs(subfolder_path, exist_ok=True)\n",
    "    \n",
    "    # Get the start and end index for this batch of images\n",
    "    start_index = i * images_per_folder\n",
    "    end_index = start_index + images_per_folder\n",
    "    \n",
    "    # Move or copy the images to the new subfolder\n",
    "    for image_file in image_files[start_index:end_index]:\n",
    "        src_path = os.path.join(source_folder, image_file)\n",
    "        dst_path = os.path.join(subfolder_path, image_file)\n",
    "        shutil.copy(src_path, dst_path)  # Use shutil.move(src_path, dst_path) if you want to move instead of copy\n",
    "\n",
    "print(\"Images have been successfully distributed into subfolders.\")"
   ]
  },
  {
   "cell_type": "code",
   "execution_count": null,
   "metadata": {},
   "outputs": [],
   "source": [
    "import os\n",
    "import subprocess\n",
    "\n",
    "# Define the path where your subfolders are located\n",
    "base_directory = \"/home/student/Desktop/KudzuClassification/ObjectDetection/predict/\"  # Change this to your base folder containing 68 subfolders\n",
    "model_path = \"/home/student/Desktop/KudzuClassification/ObjectDetection/weights/best_v2.pt\"\n",
    "conf_threshold = 0.95  # Set confidence threshold to 95%\n",
    "processed_log = \"processed_images_v2.txt\"  # Log file to track processed images\n",
    "detections_log = \"detections_above_threshold_v2.txt\"  # Log file to track images with detections above threshold\n"
   ]
  },
  {
   "cell_type": "code",
   "execution_count": null,
   "metadata": {},
   "outputs": [],
   "source": [
    "# Function to load already processed images from log file\n",
    "def load_processed_images(log_file):\n",
    "    if os.path.exists(log_file):\n",
    "        with open(log_file, 'r') as f:\n",
    "            return set(line.strip() for line in f)\n",
    "    return set()\n",
    "\n",
    "# Function to append new processed image to log file\n",
    "def log_processed_image(log_file, image_path):\n",
    "    with open(log_file, 'a') as f:\n",
    "        f.write(f\"{image_path}\\n\")\n"
   ]
  },
  {
   "cell_type": "code",
   "execution_count": null,
   "metadata": {},
   "outputs": [],
   "source": [
    "# Load the list of already processed images\n",
    "processed_images = load_processed_images(processed_log)\n",
    "\n",
    "# Get a list of all subdirectories in the base directory\n",
    "subdirectories = [f.path for f in os.scandir(base_directory) if f.is_dir()]\n",
    "\n",
    "processed_count = 0\n",
    "\n",
    "# Loop over each subdirectory and process its images\n",
    "for subdir in subdirectories:\n",
    "    # List all image files in the current subdirectory (assuming common image formats like .jpg, .jpeg, .png, etc.)\n",
    "    image_files = [f for f in os.listdir(subdir) if f.endswith(('.jpg', '.jpeg', '.png'))]\n",
    "    \n",
    "    # Process each image in the subdirectory\n",
    "    for image_file in image_files:\n",
    "        image_path = os.path.join(subdir, image_file)\n",
    "\n",
    "        # Check if this image has already been processed (skip if true)\n",
    "        if image_path in processed_images:\n",
    "            processed_count += 1    \n",
    "            continue\n",
    "            \n",
    "        print(f\"Skipping {processed_count} images already processed.\")\n",
    "        \n",
    "        # Construct the YOLO command with confidence threshold\n",
    "        yolo_command = [\n",
    "            \"yolo\", \n",
    "            \"task=detect\", \n",
    "            \"mode=predict\", \n",
    "            f\"model={model_path}\", \n",
    "            f\"source={image_path}\",\n",
    "            f\"conf={conf_threshold}\"  # Set confidence threshold to 90%\n",
    "        ]\n",
    "        \n",
    "        # Run the YOLO command using subprocess and capture output\n",
    "        #print(f\"Running YOLO on {image_path}...\")\n",
    "        result = subprocess.run(yolo_command, capture_output=True, text=True)\n",
    "        \n",
    "        # Get YOLO's raw output for analysis\n",
    "        output = result.stdout\n",
    "        #print(f\"YOLO Output for {image_path}:\\n{output}\")\n",
    "        \n",
    "        # Check if there is a Kudzu detection by looking for 'kudzu' in the output\n",
    "        if \"kudzu\" in output:  # Adjust this based on actual YOLO output structure\n",
    "            print(f\"Kudzu detected for {image_path} with confidence above {conf_threshold * 100}%\")\n",
    "            \n",
    "            # Log this image as having Kudzu detections above the threshold\n",
    "            with open(detections_log, 'a') as f:\n",
    "                f.write(f\"{image_path}\\n\")\n",
    "        \n",
    "        # Mark this image as processed by logging it\n",
    "        log_processed_image(processed_log, image_path)\n",
    "\n",
    "print(\"YOLO detection completed for all images.\")"
   ]
  },
  {
   "cell_type": "code",
   "execution_count": null,
   "metadata": {},
   "outputs": [],
   "source": [
    "import os\n",
    "import shutil\n",
    "from pathlib import Path\n",
    "\n",
    "# Paths\n",
    "text_file_path = 'detections_above_threshold_v2.txt'  # Update with actual path\n",
    "root_directory = '/home/student/Desktop/runs/detect/'  # Update if necessary\n",
    "\n",
    "# Ensure output directory exists\n",
    "output_directory = '/home/student/Desktop/matching_images_v2'  # Change this as needed\n",
    "os.makedirs(output_directory, exist_ok=True)\n",
    "\n",
    "# Step 1: Read image paths from the text file and extract filenames\n",
    "try:\n",
    "    with open(text_file_path, 'r') as file:\n",
    "        # Extract only the filenames from the full paths in the text file\n",
    "        listed_image_filenames = {os.path.basename(line.strip()) for line in file.readlines()}\n",
    "    print(f\"Loaded {len(listed_image_filenames)} image filenames from text file.\")\n",
    "except FileNotFoundError:\n",
    "    print('Text file not found! Check the file path.')\n",
    "    listed_image_filenames = set()"
   ]
  },
  {
   "cell_type": "code",
   "execution_count": null,
   "metadata": {},
   "outputs": [],
   "source": [
    "# Step 2: Check if root directory exists and process images\n",
    "try:\n",
    "    predict_folders = [d for d in Path(root_directory).iterdir() if d.is_dir() and d.name.startswith('predict')]\n",
    "    print(f\"Found {len(predict_folders)} 'predict' folders.\")\n",
    "\n",
    "    for folder in predict_folders:\n",
    "        print(f\"Processing folder: {folder}\")\n",
    "        for file in folder.glob('*.*'):  # Match all files with any extension\n",
    "            if file.name in listed_image_filenames:  # Compare only filenames\n",
    "                print(f'Copying: {file}')\n",
    "                shutil.copy(str(file), output_directory)\n",
    "except FileNotFoundError:\n",
    "    print('Root directory not found! Check the directory path.')"
   ]
  },
  {
   "cell_type": "code",
   "execution_count": null,
   "metadata": {
    "colab": {
     "base_uri": "https://localhost:8080/",
     "height": 1000
    },
    "id": "18b2qLIEzlWp",
    "outputId": "bdcf853c-936b-4be9-a1eb-63bbbaacc6f8"
   },
   "outputs": [],
   "source": [
    "import os\n",
    "import random\n",
    "import matplotlib.pyplot as plt\n",
    "import matplotlib.image as mpimg\n",
    "\n",
    "# Specify the output directory where your images are saved\n",
    "output_directory = '/home/student/Desktop/matching_images_v2'\n",
    "\n",
    "# Step 1: Fetch all image file paths from the output directory\n",
    "if os.path.exists(output_directory):\n",
    "    image_files = [os.path.join(output_directory, f) for f in os.listdir(output_directory) if f.lower().endswith(('png', 'jpg', 'jpeg'))]\n",
    "    \n",
    "    # Step 2: Randomly select 10 images from the list (or fewer if less than 10)\n",
    "    if len(image_files) > 10:\n",
    "        random_images = random.sample(image_files, 10)\n",
    "    else:\n",
    "        random_images = image_files  # Select all if less than 10\n",
    "    \n",
    "    # Step 3: Display the randomly selected images using matplotlib\n",
    "    plt.figure(figsize=(30, 20))\n",
    "    \n",
    "    for i, img_path in enumerate(random_images):\n",
    "        # Load and display each image\n",
    "        print(i+1, img_path)\n",
    "        img = mpimg.imread(img_path)\n",
    "        plt.subplot(2, 5, i + 1)  # Create a grid of 2 rows and 5 columns\n",
    "        plt.imshow(img)\n",
    "        plt.axis('off')  # Hide axis for better visualization\n",
    "        plt.title(os.path.basename(img_path))  # Display filename as title\n",
    "    \n",
    "    plt.tight_layout()\n",
    "    plt.show()\n",
    "else:\n",
    "    print(f\"Directory does not exist: {output_directory}\")"
   ]
  },
  {
   "cell_type": "code",
   "execution_count": null,
   "metadata": {
    "id": "eiHKY_Slzpsq"
   },
   "outputs": [],
   "source": [
    "import os\n",
    "import random\n",
    "import matplotlib.pyplot as plt\n",
    "import matplotlib.image as mpimg\n",
    "\n",
    "# Specify the output directory where your images are saved\n",
    "output_directory = '/home/student/Desktop/matching_images_v2'\n",
    "\n",
    "# Step 1: Fetch all image file paths from the output directory\n",
    "if os.path.exists(output_directory):\n",
    "    image_files = [os.path.join(output_directory, f) for f in os.listdir(output_directory) if f.lower().endswith(('png', 'jpg', 'jpeg'))]\n",
    "    \n",
    "    # Step 2: Display images in batches of 10\n",
    "    batch_size = 10\n",
    "    total_batches = (len(image_files) + batch_size - 1) // batch_size  # Calculate total batches\n",
    "    \n",
    "    batch_index = 0\n",
    "    while batch_index < total_batches:\n",
    "        # Get the images for the current batch\n",
    "        start_index = batch_index * batch_size\n",
    "        end_index = start_index + batch_size\n",
    "        current_batch = image_files[start_index:end_index]\n",
    "        \n",
    "        # Display the current batch\n",
    "        plt.figure(figsize=(30, 20))\n",
    "        for i, img_path in enumerate(current_batch):\n",
    "            img = mpimg.imread(img_path)\n",
    "            print(i+1, img_path)\n",
    "            plt.subplot(2, 5, i + 1)  # Create a grid of 2 rows and 5 columns\n",
    "            plt.imshow(img)\n",
    "            plt.axis('off')  # Hide axis for better visualization\n",
    "            plt.title(os.path.basename(img_path))  # Display filename as title\n",
    "        \n",
    "        plt.tight_layout()\n",
    "        plt.show()\n",
    "        \n",
    "        # Ask user whether to proceed to the next batch\n",
    "        if batch_index < total_batches - 1:\n",
    "            user_input = input(\"Press Enter to view the next batch, or type 'q' to quit: \").strip().lower()\n",
    "            if user_input == 'q':\n",
    "                print(\"Exiting...\")\n",
    "                break\n",
    "        \n",
    "        batch_index += 1\n",
    "else:\n",
    "    print(f\"Directory does not exist: {output_directory}\")\n"
   ]
  },
  {
   "cell_type": "code",
   "execution_count": null,
   "metadata": {},
   "outputs": [],
   "source": []
  }
 ],
 "metadata": {
  "accelerator": "GPU",
  "colab": {
   "gpuType": "T4",
   "provenance": []
  },
  "kernelspec": {
   "display_name": "Kudzu",
   "language": "python",
   "name": "kudzu"
  },
  "language_info": {
   "codemirror_mode": {
    "name": "ipython",
    "version": 3
   },
   "file_extension": ".py",
   "mimetype": "text/x-python",
   "name": "python",
   "nbconvert_exporter": "python",
   "pygments_lexer": "ipython3",
   "version": "3.9.13"
  }
 },
 "nbformat": 4,
 "nbformat_minor": 4
}
